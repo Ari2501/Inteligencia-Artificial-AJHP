{
  "nbformat": 4,
  "nbformat_minor": 0,
  "metadata": {
    "colab": {
      "provenance": [],
      "include_colab_link": true
    },
    "kernelspec": {
      "name": "python3",
      "display_name": "Python 3"
    },
    "language_info": {
      "name": "python"
    }
  },
  "cells": [
    {
      "cell_type": "markdown",
      "metadata": {
        "id": "view-in-github",
        "colab_type": "text"
      },
      "source": [
        "<a href=\"https://colab.research.google.com/github/Ari2501/Inteligencia-Artificial-AJHP/blob/main/P2_Neurona_AND.ipynb\" target=\"_parent\"><img src=\"https://colab.research.google.com/assets/colab-badge.svg\" alt=\"Open In Colab\"/></a>"
      ]
    },
    {
      "cell_type": "markdown",
      "source": [
        "# Neurona aprendizaje compuerta AND\n",
        "\n",
        "\n",
        "---\n",
        "00 -> 0  \n",
        "01 -> 0  \n",
        "10 -> 0  \n",
        "11 -> 1  "
      ],
      "metadata": {
        "id": "YquD-ksdmm5J"
      }
    },
    {
      "cell_type": "code",
      "execution_count": null,
      "metadata": {
        "colab": {
          "base_uri": "https://localhost:8080/"
        },
        "id": "lubFTPSEgqQH",
        "outputId": "c99f05f7-f7b6-4654-8c68-aab8ef0fd387"
      },
      "outputs": [
        {
          "output_type": "stream",
          "name": "stdout",
          "text": [
            "1 AND 0 = 0\n"
          ]
        }
      ],
      "source": [
        "\n",
        "x = [1, 0]  #Estos valores pueden cambiar ya sea 0 o 1\n",
        "w = [1, 1]  # Ambos pesos deben ser 1 para que funcione \"AND\"\n",
        "umbral = 2\n",
        "\n",
        "s = 0\n",
        "for i in range(2):\n",
        "    s += x[i] * w[i]\n",
        "\n",
        "y = 1 if s >= umbral else 0\n",
        "\n",
        "print(x[0], 'AND', x[1], '=', y)\n"
      ]
    },
    {
      "cell_type": "markdown",
      "source": [
        "Tarea buscar el peso \"W\" correcto que nos de los resultados correctos en las combinaciones de datos de entrada \"X\" de la compuerta and \"S\""
      ],
      "metadata": {
        "id": "Tss7mbWlq2kW"
      }
    }
  ]
}