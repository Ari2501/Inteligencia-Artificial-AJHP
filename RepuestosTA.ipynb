{
  "nbformat": 4,
  "nbformat_minor": 0,
  "metadata": {
    "colab": {
      "provenance": [],
      "authorship_tag": "ABX9TyPCGqNMGPE4iiiCUpeIO0C7",
      "include_colab_link": true
    },
    "kernelspec": {
      "name": "python3",
      "display_name": "Python 3"
    },
    "language_info": {
      "name": "python"
    }
  },
  "cells": [
    {
      "cell_type": "markdown",
      "metadata": {
        "id": "view-in-github",
        "colab_type": "text"
      },
      "source": [
        "<a href=\"https://colab.research.google.com/github/Ari2501/Inteligencia-Artificial-AJHP/blob/main/RepuestosTA.ipynb\" target=\"_parent\"><img src=\"https://colab.research.google.com/assets/colab-badge.svg\" alt=\"Open In Colab\"/></a>"
      ]
    },
    {
      "cell_type": "markdown",
      "source": [
        "# Repuestos de un Taller Automotriz"
      ],
      "metadata": {
        "id": "nFKUPLHJd9j8"
      }
    },
    {
      "cell_type": "code",
      "source": [
        "# Orden de almacenar (nombre del repuesto : cantidad en stock)\n",
        "inventario = {}\n",
        "\n",
        "# Función que muestra el inventario actual\n",
        "def mostrar_inventario():\n",
        "    print(\"\\nInventario actual:\")\n",
        "    if not inventario:\n",
        "        print(\"El inventario está vacío.\")\n",
        "    else:\n",
        "        for repuesto, cantidad in inventario.items():\n",
        "            print(f\"{repuesto}: {cantidad} unidades\")\n",
        "    print()\n",
        "\n",
        "# Función que agrega repuestos al inventario\n",
        "def agregar_repuesto(repuesto, cantidad):\n",
        "    repuesto = repuesto.capitalize()\n",
        "    if repuesto in inventario:\n",
        "        inventario[repuesto] += cantidad\n",
        "    else:\n",
        "        inventario[repuesto] = cantidad\n",
        "    print(f\"{cantidad} unidades de {repuesto} han sido agregadas al inventario.\\n\")\n",
        "\n",
        "# Función que elimina repuestos del inventario\n",
        "def eliminar_repuesto(repuesto, cantidad):\n",
        "    repuesto = repuesto.capitalize()\n",
        "    if repuesto in inventario:\n",
        "        if cantidad >= inventario[repuesto]:\n",
        "            inventario.pop(repuesto)\n",
        "            print(f\"Se han eliminado todas las unidades de {repuesto} del inventario.\\n\")\n",
        "        else:\n",
        "            inventario[repuesto] -= cantidad\n",
        "            print(f\"Se han eliminado {cantidad} unidades de {repuesto} del inventario.\\n\")\n",
        "    else:\n",
        "        print(f\"El repuesto {repuesto} no existe en el inventario.\\n\")\n",
        "\n",
        "# Función que consulta el stock de un repuesto\n",
        "def consultar_repuesto(repuesto):\n",
        "    repuesto = repuesto.capitalize()\n",
        "    if repuesto in inventario:\n",
        "        print(f\"Cantidad de {repuesto} en inventario: {inventario[repuesto]} unidades\\n\")\n",
        "    else:\n",
        "        print(f\"El repuesto {repuesto} no está en el inventario.\\n\")\n",
        "\n",
        "# Función que realiza una compra cuando el stock es bajo\n",
        "def comprar_repuesto(repuesto, cantidad_comprar, umbral=5):\n",
        "    repuesto = repuesto.capitalize()\n",
        "    if repuesto in inventario:\n",
        "        cantidad_actual = inventario[repuesto]\n",
        "        if cantidad_actual <= umbral:\n",
        "            inventario[repuesto] += cantidad_comprar\n",
        "            print(f\"Se han comprado {cantidad_comprar} unidades de {repuesto}. Ahora hay {inventario[repuesto]} unidades en total.\\n\")\n",
        "        else:\n",
        "            print(f\"El stock de {repuesto} es suficiente (hay {cantidad_actual} unidades).\\n\")\n",
        "    else:\n",
        "        print(f\"El repuesto {repuesto} no está en el inventario.\\n\")\n"
      ],
      "metadata": {
        "id": "Kha3MZPmeGH-"
      },
      "execution_count": 1,
      "outputs": []
    },
    {
      "cell_type": "markdown",
      "source": [
        "Agregar Repuestos"
      ],
      "metadata": {
        "id": "WWxXc1pngJM_"
      }
    },
    {
      "cell_type": "code",
      "source": [
        "repuesto = input(\"Ingrese el nombre del repuesto a agregar: \")\n",
        "cantidad = int(input(f\"Ingrese la cantidad de {repuesto} a agregar: \"))\n",
        "agregar_repuesto(repuesto, cantidad)\n",
        "mostrar_inventario()"
      ],
      "metadata": {
        "colab": {
          "base_uri": "https://localhost:8080/"
        },
        "id": "UiVR0npogebB",
        "outputId": "b6eb55cf-cb2e-4a36-b2a8-c0b2f35db790"
      },
      "execution_count": 5,
      "outputs": [
        {
          "output_type": "stream",
          "name": "stdout",
          "text": [
            "Ingrese el nombre del repuesto a agregar: Multímetro\n",
            "Ingrese la cantidad de Multímetro a agregar: 8\n",
            "8 unidades de Multímetro han sido agregadas al inventario.\n",
            "\n",
            "\n",
            "Inventario actual:\n",
            "Juegos de llaves: 5 unidades\n",
            "Gato hidráulico: 10 unidades\n",
            "Desatornillador cruz: 15 unidades\n",
            "Multímetro: 8 unidades\n",
            "\n"
          ]
        }
      ]
    },
    {
      "cell_type": "markdown",
      "source": [
        "Eliminar Repuestos"
      ],
      "metadata": {
        "id": "LhDSe_tEgpSm"
      }
    },
    {
      "cell_type": "code",
      "source": [
        "repuesto = input(\"Ingrese el nombre del repuesto a eliminar: \")\n",
        "cantidad = int(input(f\"Ingrese la cantidad de {repuesto} a eliminar: \"))\n",
        "eliminar_repuesto(repuesto, cantidad)\n",
        "mostrar_inventario()"
      ],
      "metadata": {
        "colab": {
          "base_uri": "https://localhost:8080/"
        },
        "id": "OjKzK46ygs0n",
        "outputId": "35d0043e-6d97-4bf6-8ea1-2719c334cd16"
      },
      "execution_count": 6,
      "outputs": [
        {
          "output_type": "stream",
          "name": "stdout",
          "text": [
            "Ingrese el nombre del repuesto a eliminar: Juegos de llaves\n",
            "Ingrese la cantidad de Juegos de llaves a eliminar: 4\n",
            "Se han eliminado 4 unidades de Juegos de llaves del inventario.\n",
            "\n",
            "\n",
            "Inventario actual:\n",
            "Juegos de llaves: 1 unidades\n",
            "Gato hidráulico: 10 unidades\n",
            "Desatornillador cruz: 15 unidades\n",
            "Multímetro: 8 unidades\n",
            "\n"
          ]
        }
      ]
    },
    {
      "cell_type": "markdown",
      "source": [
        "Consultar Stock de un repuesto"
      ],
      "metadata": {
        "id": "bNnf9yjJg7QT"
      }
    },
    {
      "cell_type": "code",
      "source": [
        "repuesto = input(\"Ingrese el nombre del repuesto a consultar: \")\n",
        "consultar_repuesto(repuesto)"
      ],
      "metadata": {
        "colab": {
          "base_uri": "https://localhost:8080/"
        },
        "id": "oXjdP7J7hAIn",
        "outputId": "b93dadcc-4bcf-402c-c7d7-07626b90d057"
      },
      "execution_count": 8,
      "outputs": [
        {
          "output_type": "stream",
          "name": "stdout",
          "text": [
            "Ingrese el nombre del repuesto a consultar: Multímetro\n",
            "Cantidad de Multímetro en inventario: 8 unidades\n",
            "\n"
          ]
        }
      ]
    },
    {
      "cell_type": "markdown",
      "source": [
        "Comprar repuestos si el stock es bajo"
      ],
      "metadata": {
        "id": "htuf9d5AhIAP"
      }
    },
    {
      "cell_type": "code",
      "source": [
        "repuesto = input(\"Ingrese el nombre del repuesto a comprar: \")\n",
        "cantidad_comprar = int(input(f\"Ingrese la cantidad de {repuesto} que desea comprar: \"))\n",
        "comprar_repuesto(repuesto, cantidad_comprar)\n",
        "mostrar_inventario()"
      ],
      "metadata": {
        "colab": {
          "base_uri": "https://localhost:8080/"
        },
        "id": "fr2jgPBohMru",
        "outputId": "07bc210f-dac6-4c6d-e647-6543aa73f2f6"
      },
      "execution_count": 9,
      "outputs": [
        {
          "output_type": "stream",
          "name": "stdout",
          "text": [
            "Ingrese el nombre del repuesto a comprar: Multímetro\n",
            "Ingrese la cantidad de Multímetro que desea comprar: 5\n",
            "El stock de Multímetro es suficiente (hay 8 unidades).\n",
            "\n",
            "\n",
            "Inventario actual:\n",
            "Juegos de llaves: 1 unidades\n",
            "Gato hidráulico: 10 unidades\n",
            "Desatornillador cruz: 15 unidades\n",
            "Multímetro: 8 unidades\n",
            "\n"
          ]
        }
      ]
    }
  ]
}