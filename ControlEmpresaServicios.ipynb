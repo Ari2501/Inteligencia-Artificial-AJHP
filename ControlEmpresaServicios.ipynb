{
  "nbformat": 4,
  "nbformat_minor": 0,
  "metadata": {
    "colab": {
      "provenance": [],
      "authorship_tag": "ABX9TyPtnfMz8yA8969ZAyGvj2e+",
      "include_colab_link": true
    },
    "kernelspec": {
      "name": "python3",
      "display_name": "Python 3"
    },
    "language_info": {
      "name": "python"
    }
  },
  "cells": [
    {
      "cell_type": "markdown",
      "metadata": {
        "id": "view-in-github",
        "colab_type": "text"
      },
      "source": [
        "<a href=\"https://colab.research.google.com/github/Ari2501/Inteligencia-Artificial-AJHP/blob/main/ControlEmpresaServicios.ipynb\" target=\"_parent\"><img src=\"https://colab.research.google.com/assets/colab-badge.svg\" alt=\"Open In Colab\"/></a>"
      ]
    },
    {
      "cell_type": "markdown",
      "source": [
        "# Control de Servicios en una Empresa"
      ],
      "metadata": {
        "id": "m80_C0gTo7d1"
      }
    },
    {
      "cell_type": "markdown",
      "source": [
        "Estructura del Sistema"
      ],
      "metadata": {
        "id": "2-GNqijLtQ4d"
      }
    },
    {
      "cell_type": "code",
      "source": [
        "empleados = {}\n",
        "\n",
        "# Función que agrega un nuevo empleado\n",
        "def agregar_empleado(nombre, tarifa_hora):\n",
        "    nombre = nombre.capitalize()\n",
        "    if nombre not in empleados:\n",
        "        empleados[nombre] = {\"tarifa_hora\": tarifa_hora, \"proyectos\": {}}\n",
        "        print(f\"Empleado {nombre} ha sido agregado con una tarifa de {tarifa_hora} por hora.\\n\")\n",
        "    else:\n",
        "        print(f\"El empleado {nombre} ya existe.\\n\")\n",
        "\n",
        "# Función que registra las horas trabajadas en un proyecto\n",
        "def registrar_horas(nombre, proyecto, horas):\n",
        "    nombre = nombre.capitalize()\n",
        "    proyecto = proyecto.capitalize()\n",
        "    if nombre in empleados:\n",
        "        if proyecto in empleados[nombre][\"proyectos\"]:\n",
        "            empleados[nombre][\"proyectos\"][proyecto] += horas\n",
        "        else:\n",
        "            empleados[nombre][\"proyectos\"][proyecto] = horas\n",
        "        print(f\"Se han registrado {horas} horas en el proyecto {proyecto} para {nombre}.\\n\")\n",
        "    else:\n",
        "        print(f\"El empleado {nombre} no existe. Regístralo primero.\\n\")\n",
        "\n",
        "# Función que calcula el costo total por empleado en cada proyecto\n",
        "def calcular_costo(nombre):\n",
        "    nombre = nombre.capitalize()\n",
        "    if nombre in empleados:\n",
        "        total_costo = 0\n",
        "        print(f\"\\nHoras trabajadas y costos para {nombre}:\")\n",
        "        for proyecto, horas in empleados[nombre][\"proyectos\"].items():\n",
        "            costo = horas * empleados[nombre][\"tarifa_hora\"]\n",
        "            total_costo += costo\n",
        "            print(f\"Proyecto {proyecto}: {horas} horas trabajadas, costo: {costo}\")\n",
        "        print(f\"Costo total para {nombre}: {total_costo}\\n\")\n",
        "        return total_costo\n",
        "    else:\n",
        "        print(f\"El empleado {nombre} no existe.\\n\")\n",
        "\n",
        "# Función que muestra el reporte de todos los empleados\n",
        "def mostrar_reporte():\n",
        "    if not empleados:\n",
        "        print(\"No hay empleados registrados.\\n\")\n",
        "    else:\n",
        "        print(\"\\n--- Reporte de empleados ---\")\n",
        "        for nombre in empleados:\n",
        "            calcular_costo(nombre)\n"
      ],
      "metadata": {
        "id": "lCNpWl70tXoq"
      },
      "execution_count": 1,
      "outputs": []
    },
    {
      "cell_type": "markdown",
      "source": [
        "Agregar empleados"
      ],
      "metadata": {
        "id": "ku7mFqdDw6X-"
      }
    },
    {
      "cell_type": "code",
      "source": [
        "nombre = input(\"Ingrese el nombre del empleado: \")\n",
        "tarifa_hora = float(input(f\"Ingrese la tarifa por hora de {nombre}: \"))\n",
        "agregar_empleado(nombre, tarifa_hora)"
      ],
      "metadata": {
        "colab": {
          "base_uri": "https://localhost:8080/"
        },
        "id": "72s0nrs6xt87",
        "outputId": "80b707a1-8f54-4e3c-8627-2434ab3565ab"
      },
      "execution_count": 16,
      "outputs": [
        {
          "output_type": "stream",
          "name": "stdout",
          "text": [
            "Ingrese el nombre del empleado: Joshira\n",
            "Ingrese la tarifa por hora de Joshira: 70\n",
            "Empleado Joshira ha sido agregado con una tarifa de 70.0 por hora.\n",
            "\n"
          ]
        }
      ]
    },
    {
      "cell_type": "markdown",
      "source": [
        "Registro de horas trabajadas"
      ],
      "metadata": {
        "id": "faGaJx_GxwRN"
      }
    },
    {
      "cell_type": "code",
      "source": [
        "nombre = input(\"Ingrese el nombre del empleado: \")\n",
        "proyecto = input(\"Ingrese el nombre del proyecto: \")\n",
        "horas = float(input(f\"Ingrese la cantidad de horas trabajadas por {nombre} en el proyecto {proyecto}: \"))\n",
        "registrar_horas(nombre, proyecto, horas)"
      ],
      "metadata": {
        "colab": {
          "base_uri": "https://localhost:8080/"
        },
        "id": "xz5rvv8Fx0a2",
        "outputId": "f668e409-0b8d-4e41-9919-ecde94348253"
      },
      "execution_count": 18,
      "outputs": [
        {
          "output_type": "stream",
          "name": "stdout",
          "text": [
            "Ingrese el nombre del empleado: Joshira\n",
            "Ingrese el nombre del proyecto: Las polillas\n",
            "Ingrese la cantidad de horas trabajadas por Joshira en el proyecto Las polillas: 20\n",
            "Se han registrado 20.0 horas en el proyecto Las polillas para Joshira.\n",
            "\n"
          ]
        }
      ]
    },
    {
      "cell_type": "markdown",
      "source": [
        "Calculo del costo total de un empleado"
      ],
      "metadata": {
        "id": "Lx7XyAOyx29U"
      }
    },
    {
      "cell_type": "code",
      "source": [
        "nombre = input(\"Ingrese el nombre del empleado para calcular el costo total: \")\n",
        "calcular_costo(nombre)"
      ],
      "metadata": {
        "colab": {
          "base_uri": "https://localhost:8080/"
        },
        "id": "DqL5F178yCTa",
        "outputId": "c4e4a724-e52f-4c29-f0a2-710eda5ef95b"
      },
      "execution_count": 19,
      "outputs": [
        {
          "output_type": "stream",
          "name": "stdout",
          "text": [
            "Ingrese el nombre del empleado para calcular el costo total: Joshira\n",
            "\n",
            "Horas trabajadas y costos para Joshira:\n",
            "Proyecto Las polillas: 20.0 horas trabajadas, costo: 1400.0\n",
            "Costo total para Joshira: 1400.0\n",
            "\n"
          ]
        },
        {
          "output_type": "execute_result",
          "data": {
            "text/plain": [
              "1400.0"
            ]
          },
          "metadata": {},
          "execution_count": 19
        }
      ]
    },
    {
      "cell_type": "markdown",
      "source": [
        "Generación de Reporte completo"
      ],
      "metadata": {
        "id": "j_f1UF1cyGYp"
      }
    },
    {
      "cell_type": "code",
      "source": [
        "mostrar_reporte()"
      ],
      "metadata": {
        "colab": {
          "base_uri": "https://localhost:8080/"
        },
        "id": "bR7GTOYpyKVe",
        "outputId": "0f633a1f-0659-4588-cede-650d2c3ea950"
      },
      "execution_count": 20,
      "outputs": [
        {
          "output_type": "stream",
          "name": "stdout",
          "text": [
            "\n",
            "--- Reporte de empleados ---\n",
            "\n",
            "Horas trabajadas y costos para Aranza ponce:\n",
            "Proyecto Las polillas: 9.0 horas trabajadas, costo: 450.0\n",
            "Costo total para Aranza ponce: 450.0\n",
            "\n",
            "\n",
            "Horas trabajadas y costos para Zul:\n",
            "Proyecto Las polillas: 10.0 horas trabajadas, costo: 200.0\n",
            "Costo total para Zul: 200.0\n",
            "\n",
            "\n",
            "Horas trabajadas y costos para Miriam:\n",
            "Proyecto Las polillas: 10.0 horas trabajadas, costo: 550.0\n",
            "Costo total para Miriam: 550.0\n",
            "\n",
            "\n",
            "Horas trabajadas y costos para Kasumi:\n",
            "Proyecto Las polillas: 8.0 horas trabajadas, costo: 280.0\n",
            "Costo total para Kasumi: 280.0\n",
            "\n",
            "\n",
            "Horas trabajadas y costos para Ari:\n",
            "Proyecto Las polillas: 10.0 horas trabajadas, costo: 600.0\n",
            "Costo total para Ari: 600.0\n",
            "\n",
            "\n",
            "Horas trabajadas y costos para Joshira:\n",
            "Proyecto Las polillas: 20.0 horas trabajadas, costo: 1400.0\n",
            "Costo total para Joshira: 1400.0\n",
            "\n"
          ]
        }
      ]
    }
  ]
}