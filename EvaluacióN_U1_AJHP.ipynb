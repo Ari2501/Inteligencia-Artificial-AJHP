{
  "nbformat": 4,
  "nbformat_minor": 0,
  "metadata": {
    "colab": {
      "provenance": [],
      "authorship_tag": "ABX9TyO6mb6cuPdS4OVANEj3Ltu6",
      "include_colab_link": true
    },
    "kernelspec": {
      "name": "python3",
      "display_name": "Python 3"
    },
    "language_info": {
      "name": "python"
    }
  },
  "cells": [
    {
      "cell_type": "markdown",
      "metadata": {
        "id": "view-in-github",
        "colab_type": "text"
      },
      "source": [
        "<a href=\"https://colab.research.google.com/github/Ari2501/Inteligencia-Artificial-AJHP/blob/main/Evaluaci%C3%B3N_U1_AJHP.ipynb\" target=\"_parent\"><img src=\"https://colab.research.google.com/assets/colab-badge.svg\" alt=\"Open In Colab\"/></a>"
      ]
    },
    {
      "cell_type": "markdown",
      "source": [
        "# EVALUACIÓN UNIDAD 1 AJHP\n"
      ],
      "metadata": {
        "id": "adZ-CzTa1PQt"
      }
    },
    {
      "cell_type": "markdown",
      "source": [
        "### INSTRUCCIONES:\n",
        "Crear un notebook en colab a partir del programa base de la compuerta AND\n",
        "Modificar para que funcione con las dos compuertas AND y OR\n",
        "Criterios de aceptación: El programa va a solicitar los valores del datashet para X0 y X1, por lo cual\n",
        "la impresión de resultados debe mostrar la compuerta AND y la compuerta OR (Y).\n",
        "Menu interactivo donde pregunte si quiero introducir otro datashet."
      ],
      "metadata": {
        "id": "KmdSaE0V5K1a"
      }
    },
    {
      "cell_type": "markdown",
      "source": [
        "# Compuerta AND\n",
        "![image.png](data:image/png;base64,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)"
      ],
      "metadata": {
        "id": "OT5S69X330Fx"
      }
    },
    {
      "cell_type": "markdown",
      "source": [
        "# Compuerta OR\n",
        "![image.png](data:image/png;base64,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)"
      ],
      "metadata": {
        "id": "n-voXOUo39wW"
      }
    },
    {
      "cell_type": "code",
      "source": [
        "def calcular_compuertas(x0, x1):\n",
        "    x = [x0, x1]\n",
        "\n",
        "    # Pesos de AND y OR\n",
        "    w_and = [1, 1]\n",
        "    w_or = [1, 1]\n",
        "\n",
        "    umbral_and = 2\n",
        "    umbral_or = 1\n",
        "\n",
        "    s_and = 0\n",
        "    s_or = 0\n",
        "\n",
        "    # Aquí se calcula AND\n",
        "    for i in range(2):\n",
        "        s_and += x[i] * w_and[i]\n",
        "\n",
        "    y_and = 1 if s_and >= umbral_and else 0\n",
        "\n",
        "    # Aquí se calcula OR\n",
        "    for i in range(2):\n",
        "        s_or += x[i] * w_or[i]\n",
        "\n",
        "    y_or = 1 if s_or >= umbral_or else 0\n",
        "\n",
        "    # Aquí muestra el resultado\n",
        "    print(f\"{x[0]} AND {x[1]} = {y_and}\")\n",
        "    print(f\"{x[0]} OR {x[1]} = {y_or}\")\n",
        "\n",
        "# Aquí puse el menú interactivo\n",
        "while True:\n",
        "\n",
        "    x0 = int(input(\"Introduce el valor de X0 (0 o 1): \"))\n",
        "    x1 = int(input(\"Introduce el valor de X1 (0 o 1): \"))\n",
        "\n",
        "    calcular_compuertas(x0, x1)\n",
        "\n",
        "    repetir = input(\"¿Quieres introducir otro dataset? (s/n): \").lower()\n",
        "    if repetir != 's':\n",
        "        print(\"Gracias por usar el programa.\")\n",
        "        break\n",
        "\n"
      ],
      "metadata": {
        "colab": {
          "base_uri": "https://localhost:8080/"
        },
        "id": "UmjOk0rQAzMT",
        "outputId": "53fb2c7a-b829-4cf8-cc9a-41293495c3dd"
      },
      "execution_count": null,
      "outputs": [
        {
          "output_type": "stream",
          "name": "stdout",
          "text": [
            "Introduce el valor de X0 (0 o 1): 0\n",
            "Introduce el valor de X1 (0 o 1): 0\n",
            "0 AND 0 = 0\n",
            "0 OR 0 = 0\n",
            "¿Quieres introducir otro dataset? (s/n): s\n",
            "Introduce el valor de X0 (0 o 1): 0\n",
            "Introduce el valor de X1 (0 o 1): 1\n",
            "0 AND 1 = 0\n",
            "0 OR 1 = 1\n",
            "¿Quieres introducir otro dataset? (s/n): s\n",
            "Introduce el valor de X0 (0 o 1): 1\n",
            "Introduce el valor de X1 (0 o 1): 0\n",
            "1 AND 0 = 0\n",
            "1 OR 0 = 1\n",
            "¿Quieres introducir otro dataset? (s/n): s\n",
            "Introduce el valor de X0 (0 o 1): 1\n",
            "Introduce el valor de X1 (0 o 1): 1\n",
            "1 AND 1 = 1\n",
            "1 OR 1 = 1\n",
            "¿Quieres introducir otro dataset? (s/n): n\n",
            "Gracias por usar el programa.\n"
          ]
        }
      ]
    }
  ]
}